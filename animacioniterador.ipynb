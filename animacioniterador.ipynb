{
 "cells": [
  {
   "cell_type": "code",
   "execution_count": 7,
   "metadata": {
    "collapsed": false
   },
   "outputs": [],
   "source": [
    "using PyCall\n",
    "using PyPlot\n",
    "pygui(true)\n",
    "@pyimport matplotlib.animation as anim"
   ]
  },
  {
   "cell_type": "code",
   "execution_count": 8,
   "metadata": {
    "collapsed": false
   },
   "outputs": [
    {
     "ename": "LoadError",
     "evalue": "LoadError: PyError (:PyObject_Call) <type 'exceptions.TypeError'>\nTypeError('PyCall.jlwrap object is not an iterator',)\n  File \"/usr/local/lib/python2.7/dist-packages/matplotlib/animation.py\", line 1067, in __init__\n    TimedAnimation.__init__(self, fig, **kwargs)\n  File \"/usr/local/lib/python2.7/dist-packages/matplotlib/animation.py\", line 913, in __init__\n    *args, **kwargs)\n  File \"/usr/local/lib/python2.7/dist-packages/matplotlib/animation.py\", line 591, in __init__\n    self._init_draw()\n  File \"/usr/local/lib/python2.7/dist-packages/matplotlib/animation.py\", line 1092, in _init_draw\n    self._draw_frame(next(self.new_frame_seq()))\n\nwhile loading In[8], in expression starting on line 29",
     "output_type": "error",
     "traceback": [
      "LoadError: PyError (:PyObject_Call) <type 'exceptions.TypeError'>\nTypeError('PyCall.jlwrap object is not an iterator',)\n  File \"/usr/local/lib/python2.7/dist-packages/matplotlib/animation.py\", line 1067, in __init__\n    TimedAnimation.__init__(self, fig, **kwargs)\n  File \"/usr/local/lib/python2.7/dist-packages/matplotlib/animation.py\", line 913, in __init__\n    *args, **kwargs)\n  File \"/usr/local/lib/python2.7/dist-packages/matplotlib/animation.py\", line 591, in __init__\n    self._init_draw()\n  File \"/usr/local/lib/python2.7/dist-packages/matplotlib/animation.py\", line 1092, in _init_draw\n    self._draw_frame(next(self.new_frame_seq()))\n\nwhile loading In[8], in expression starting on line 29",
      "",
      " in pyerr_check at /home/diegotap/.julia/v0.4/PyCall/src/exception.jl:56",
      " [inlined code] from /home/diegotap/.julia/v0.4/PyCall/src/exception.jl:81",
      " in pycall at /home/diegotap/.julia/v0.4/PyCall/src/PyCall.jl:402",
      " in call at /home/diegotap/.julia/v0.4/PyCall/src/PyCall.jl:429"
     ]
    }
   ],
   "source": [
    "fig = plt[:figure]()\n",
    "ax = fig[:add_subplot](111)\n",
    "line = ax[:plot]([], [], \"bo\", ms = 10)[1]\n",
    "ax[:set_ylim](-1, 1)\n",
    "ax[:set_xlim](0, 10)\n",
    "\n",
    "function simData()\n",
    "    t_max = 10.0\n",
    "    dt = 0.05\n",
    "    x = 0.0\n",
    "    t = 0.0\n",
    "    function it()\n",
    "        while t < t_max\n",
    "            x = sin(pi*t)\n",
    "            t = t+dt\n",
    "            produce(x,t)\n",
    "        end\n",
    "    end\n",
    "    Task(it)\n",
    "end\n",
    "\n",
    "\n",
    "function simPoints(simData)\n",
    "    x, t = simData[1], simData[2]\n",
    "    line[:set_data](t, x)\n",
    "    return (line,)\n",
    "end\n",
    "\n",
    "ani = anim.FuncAnimation(fig, simPoints, simData, blit = false, interval=10, repeat= true)\n"
   ]
  },
  {
   "cell_type": "code",
   "execution_count": 12,
   "metadata": {
    "collapsed": false
   },
   "outputs": [
    {
     "data": {
      "text/plain": [
       "Task (runnable) @0x00007f3563b5bd00"
      ]
     },
     "execution_count": 12,
     "metadata": {},
     "output_type": "execute_result"
    }
   ],
   "source": [
    "simData()"
   ]
  },
  {
   "cell_type": "code",
   "execution_count": 11,
   "metadata": {
    "collapsed": false
   },
   "outputs": [
    {
     "data": {
      "text/plain": [
       "200-element Array{Any,1}:\n",
       " (0.0,0.05)                               \n",
       " (0.15643446504023087,0.1)                \n",
       " (0.3090169943749474,0.15000000000000002) \n",
       " (0.4539904997395468,0.2)                 \n",
       " (0.5877852522924731,0.25)                \n",
       " (0.7071067811865475,0.3)                 \n",
       " (0.8090169943749475,0.35)                \n",
       " (0.8910065241883678,0.39999999999999997) \n",
       " (0.9510565162951535,0.44999999999999996) \n",
       " (0.9876883405951377,0.49999999999999994) \n",
       " (1.0,0.5499999999999999)                 \n",
       " (0.9876883405951378,0.6)                 \n",
       " (0.9510565162951536,0.65)                \n",
       " ⋮                                        \n",
       " (-0.9510565162951521,9.45)               \n",
       " (-0.9876883405951371,9.5)                \n",
       " (-1.0,9.55)                              \n",
       " (-0.9876883405951374,9.600000000000001)  \n",
       " (-0.9510565162951529,9.650000000000002)  \n",
       " (-0.8910065241883648,9.700000000000003)  \n",
       " (-0.8090169943749429,9.750000000000004)  \n",
       " (-0.7071067811865415,9.800000000000004)  \n",
       " (-0.5877852522924626,9.850000000000005)  \n",
       " (-0.4539904997395344,9.900000000000006)  \n",
       " (-0.30901699437493,9.950000000000006)    \n",
       " (-0.15643446504021188,10.000000000000007)"
      ]
     },
     "execution_count": 11,
     "metadata": {},
     "output_type": "execute_result"
    }
   ],
   "source": [
    "collect(simData())"
   ]
  },
  {
   "cell_type": "code",
   "execution_count": null,
   "metadata": {
    "collapsed": true
   },
   "outputs": [],
   "source": []
  }
 ],
 "metadata": {
  "kernelspec": {
   "display_name": "Julia 0.4.0",
   "language": "julia",
   "name": "julia-0.4"
  },
  "language_info": {
   "file_extension": ".jl",
   "mimetype": "application/julia",
   "name": "julia",
   "version": "0.4.2"
  }
 },
 "nbformat": 4,
 "nbformat_minor": 0
}
