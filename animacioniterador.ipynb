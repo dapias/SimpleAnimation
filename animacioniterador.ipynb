{
 "cells": [
  {
   "cell_type": "code",
   "execution_count": 1,
   "metadata": {
    "collapsed": true
   },
   "outputs": [],
   "source": [
    "using PyPlot\n",
    "using PyCall\n",
    "\n",
    "pygui(true)\n",
    "@pyimport matplotlib.animation as anim"
   ]
  },
  {
   "cell_type": "code",
   "execution_count": 2,
   "metadata": {
    "collapsed": false
   },
   "outputs": [
    {
     "data": {
      "text/plain": [
       "ljconfig (generic function with 2 methods)"
      ]
     },
     "execution_count": 2,
     "metadata": {},
     "output_type": "execute_result"
    }
   ],
   "source": [
    "function ljconfig(N, per=0.2)\n",
    "    # mesh-grid-like construction\n",
    "    X = (0:N) * ones(1,N+1)\n",
    "    Y = X'\n",
    "    # write all particles into a single array\n",
    "    x = [X[:]'; Y[:]']\n",
    "    x = x + per * rand(size(x))\n",
    "end"
   ]
  },
  {
   "cell_type": "code",
   "execution_count": 4,
   "metadata": {
    "collapsed": false
   },
   "outputs": [
    {
     "name": "stdout",
     "output_type": "stream",
     "text": [
      "  "
     ]
    },
    {
     "data": {
      "text/plain": [
       "PyObject <matplotlib.animation.FuncAnimation object at 0x7fe9e51f8110>"
      ]
     },
     "execution_count": 4,
     "metadata": {},
     "output_type": "execute_result"
    },
    {
     "name": "stdout",
     "output_type": "stream",
     "text": [
      "0.002653 seconds (702 allocations: 32.208 KB)\n"
     ]
    }
   ],
   "source": [
    "fig = figure()\n",
    "ax = fig[:add_subplot](111)\n",
    "\n",
    "N = 20\n",
    "\n",
    "ax[:set_xlim](-2,N*2)\n",
    "ax[:set_ylim](-2,N*2)\n",
    "\n",
    "line = ax[:plot]([], [], \"b.\")[1]\n",
    "\n",
    "\n",
    "function init()\n",
    "    line[:set_data]([],[])\n",
    "    return (line, )\n",
    "end\n",
    "\n",
    "function animate(i)\n",
    "    x = ljconfig(N)\n",
    "    x += i*0.1   #i starts in 0 as in Python\n",
    "    line[:set_data](squeeze(x[1,:],1), squeeze(x[2,:],1))\n",
    "    return (line,)\n",
    "end\n",
    "\n",
    "@time anim.FuncAnimation(fig, animate, init_func=init, frames=1000, interval=20, blit=true)"
   ]
  },
  {
   "cell_type": "markdown",
   "metadata": {
    "collapsed": true
   },
   "source": [
    "0.002651 seconds (707 allocations: 32.719 KB) \n",
    "\n",
    "N = 20"
   ]
  },
  {
   "cell_type": "code",
   "execution_count": 1,
   "metadata": {
    "collapsed": false
   },
   "outputs": [],
   "source": [
    "using PyCall\n",
    "@pyimport simData\n",
    "@pyimport numpy as np"
   ]
  },
  {
   "cell_type": "code",
   "execution_count": 2,
   "metadata": {
    "collapsed": false
   },
   "outputs": [
    {
     "data": {
      "text/plain": [
       "PyObject <generator object simData at 0x7fcd4892b640>"
      ]
     },
     "execution_count": 2,
     "metadata": {},
     "output_type": "execute_result"
    }
   ],
   "source": [
    "simData.simData()"
   ]
  },
  {
   "cell_type": "code",
   "execution_count": 7,
   "metadata": {
    "collapsed": true
   },
   "outputs": [],
   "source": [
    "using PyPlot\n",
    "pygui(true)\n",
    "@pyimport matplotlib.animation as anim"
   ]
  },
  {
   "cell_type": "code",
   "execution_count": 5,
   "metadata": {
    "collapsed": false
   },
   "outputs": [
    {
     "ename": "LoadError",
     "evalue": "LoadError: PyError (:PyObject_Call) <type 'exceptions.TypeError'>\nTypeError('PyCall.jlwrap object is not an iterator',)\n  File \"/usr/local/lib/python2.7/dist-packages/matplotlib/animation.py\", line 1067, in __init__\n    TimedAnimation.__init__(self, fig, **kwargs)\n  File \"/usr/local/lib/python2.7/dist-packages/matplotlib/animation.py\", line 913, in __init__\n    *args, **kwargs)\n  File \"/usr/local/lib/python2.7/dist-packages/matplotlib/animation.py\", line 591, in __init__\n    self._init_draw()\n  File \"/usr/local/lib/python2.7/dist-packages/matplotlib/animation.py\", line 1092, in _init_draw\n    self._draw_frame(next(self.new_frame_seq()))\n\nwhile loading In[5], in expression starting on line 42",
     "output_type": "error",
     "traceback": [
      "LoadError: PyError (:PyObject_Call) <type 'exceptions.TypeError'>\nTypeError('PyCall.jlwrap object is not an iterator',)\n  File \"/usr/local/lib/python2.7/dist-packages/matplotlib/animation.py\", line 1067, in __init__\n    TimedAnimation.__init__(self, fig, **kwargs)\n  File \"/usr/local/lib/python2.7/dist-packages/matplotlib/animation.py\", line 913, in __init__\n    *args, **kwargs)\n  File \"/usr/local/lib/python2.7/dist-packages/matplotlib/animation.py\", line 591, in __init__\n    self._init_draw()\n  File \"/usr/local/lib/python2.7/dist-packages/matplotlib/animation.py\", line 1092, in _init_draw\n    self._draw_frame(next(self.new_frame_seq()))\n\nwhile loading In[5], in expression starting on line 42",
      "",
      " in pyerr_check at /home/diegotap/.julia/v0.4/PyCall/src/exception.jl:56",
      " [inlined code] from /home/diegotap/.julia/v0.4/PyCall/src/exception.jl:81",
      " in pycall at /home/diegotap/.julia/v0.4/PyCall/src/PyCall.jl:402",
      " in call at /home/diegotap/.julia/v0.4/PyCall/src/PyCall.jl:429"
     ]
    }
   ],
   "source": [
    "fig = plt[:figure]()\n",
    "ax = fig[:add_subplot](111)\n",
    "line = ax[:plot]([], [], \"bo\", ms = 10)[1]\n",
    "ax[:set_ylim](-1, 1)\n",
    "ax[:set_xlim](0, 10)\n",
    "\n",
    "function simData()\n",
    "    t_max = 10.0\n",
    "    dt = 0.05\n",
    "    x = 0.0\n",
    "    t = 0.0\n",
    "    \n",
    "    function it()\n",
    "        while t < t_max\n",
    "            x = sin(pi*t)\n",
    "            t = t+dt\n",
    "            produce(x,t)\n",
    "        end\n",
    "    end\n",
    "    Task(it)\n",
    "end\n",
    "\n",
    "#time_template = \"Time = %.1f s\"    # prints running simulation time\n",
    "time_text = ax[:text](0.05, 0.9, \"\", transform=ax[:transAxes])\n",
    "\n",
    "function simPoints(simData)\n",
    "    x, t = simData[1], simData[2]\n",
    "    str = string(t)\n",
    "    y = str[1:3]\n",
    "    time_text[:set_text](\"time = $y\")\n",
    "    line[:set_data](t, x)\n",
    "    return (line, time_text,)\n",
    "    #return (line, )\n",
    "end\n",
    "\n",
    "\n",
    "##\n",
    "#time_template = 'Time = %.1f s'    # prints running simulation time\n",
    "#time_text = ax.text(0.05, 0.9, '', transform=ax.transAxes)\n",
    "## Now call the animation package: (simData is the user function\n",
    "## serving as the argument for simPoints):\n",
    "ani = anim.FuncAnimation(fig, simPoints, simData, blit = false, interval=10, repeat= true)\n"
   ]
  },
  {
   "cell_type": "code",
   "execution_count": 2,
   "metadata": {
    "collapsed": false
   },
   "outputs": [
    {
     "data": {
      "text/plain": [
       "simData (generic function with 1 method)"
      ]
     },
     "execution_count": 2,
     "metadata": {},
     "output_type": "execute_result"
    }
   ],
   "source": [
    "function simData()\n",
    "    t_max = 10.0\n",
    "    dt = 0.05\n",
    "    x = 0.0\n",
    "    t = 0.0\n",
    "    \n",
    "    function it()\n",
    "        while t < t_max\n",
    "            x = sin(pi*t)\n",
    "            t = t+dt\n",
    "            produce(x,t)\n",
    "        end\n",
    "    end\n",
    "    Task(it)\n",
    "end"
   ]
  },
  {
   "cell_type": "code",
   "execution_count": 3,
   "metadata": {
    "collapsed": false
   },
   "outputs": [
    {
     "data": {
      "text/plain": [
       "Task (runnable) @0x00007f3564b601a0"
      ]
     },
     "execution_count": 3,
     "metadata": {},
     "output_type": "execute_result"
    }
   ],
   "source": [
    "simData()"
   ]
  },
  {
   "cell_type": "code",
   "execution_count": 4,
   "metadata": {
    "collapsed": false
   },
   "outputs": [
    {
     "data": {
      "text/plain": [
       "200-element Array{Any,1}:\n",
       " (0.0,0.05)                               \n",
       " (0.15643446504023087,0.1)                \n",
       " (0.3090169943749474,0.15000000000000002) \n",
       " (0.4539904997395468,0.2)                 \n",
       " (0.5877852522924731,0.25)                \n",
       " (0.7071067811865475,0.3)                 \n",
       " (0.8090169943749475,0.35)                \n",
       " (0.8910065241883678,0.39999999999999997) \n",
       " (0.9510565162951535,0.44999999999999996) \n",
       " (0.9876883405951377,0.49999999999999994) \n",
       " (1.0,0.5499999999999999)                 \n",
       " (0.9876883405951378,0.6)                 \n",
       " (0.9510565162951536,0.65)                \n",
       " ⋮                                        \n",
       " (-0.9510565162951521,9.45)               \n",
       " (-0.9876883405951371,9.5)                \n",
       " (-1.0,9.55)                              \n",
       " (-0.9876883405951374,9.600000000000001)  \n",
       " (-0.9510565162951529,9.650000000000002)  \n",
       " (-0.8910065241883648,9.700000000000003)  \n",
       " (-0.8090169943749429,9.750000000000004)  \n",
       " (-0.7071067811865415,9.800000000000004)  \n",
       " (-0.5877852522924626,9.850000000000005)  \n",
       " (-0.4539904997395344,9.900000000000006)  \n",
       " (-0.30901699437493,9.950000000000006)    \n",
       " (-0.15643446504021188,10.000000000000007)"
      ]
     },
     "execution_count": 4,
     "metadata": {},
     "output_type": "execute_result"
    }
   ],
   "source": [
    "collect(simData())"
   ]
  },
  {
   "cell_type": "code",
   "execution_count": null,
   "metadata": {
    "collapsed": true
   },
   "outputs": [],
   "source": []
  }
 ],
 "metadata": {
  "kernelspec": {
   "display_name": "Julia 0.4.0",
   "language": "julia",
   "name": "julia-0.4"
  },
  "language_info": {
   "file_extension": ".jl",
   "mimetype": "application/julia",
   "name": "julia",
   "version": "0.4.2"
  }
 },
 "nbformat": 4,
 "nbformat_minor": 0
}
